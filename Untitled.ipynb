{
 "cells": [
  {
   "cell_type": "code",
   "execution_count": 1,
   "metadata": {},
   "outputs": [],
   "source": [
    "import pandas as pd"
   ]
  },
  {
   "cell_type": "code",
   "execution_count": 9,
   "metadata": {},
   "outputs": [],
   "source": [
    "response = pd.read_csv('Experiments/exp_78/shaply_response.csv')\n",
    "non_response = pd.read_csv('Experiments/exp_78/shaply_non_response.csv')"
   ]
  },
  {
   "cell_type": "code",
   "execution_count": 14,
   "metadata": {},
   "outputs": [],
   "source": [
    "data = pd.concat([response, non_response])\n",
    "data.set_axis(['response', 'non-reponse'], inplace=True)"
   ]
  },
  {
   "cell_type": "code",
   "execution_count": 27,
   "metadata": {},
   "outputs": [
    {
     "data": {
      "text/html": [
       "<div>\n",
       "<style scoped>\n",
       "    .dataframe tbody tr th:only-of-type {\n",
       "        vertical-align: middle;\n",
       "    }\n",
       "\n",
       "    .dataframe tbody tr th {\n",
       "        vertical-align: top;\n",
       "    }\n",
       "\n",
       "    .dataframe thead th {\n",
       "        text-align: right;\n",
       "    }\n",
       "</style>\n",
       "<table border=\"1\" class=\"dataframe\">\n",
       "  <thead>\n",
       "    <tr style=\"text-align: right;\">\n",
       "      <th></th>\n",
       "      <th>GAPDH</th>\n",
       "      <th>RPS26</th>\n",
       "      <th>PRDM1</th>\n",
       "      <th>STAT1</th>\n",
       "      <th>IFITM2</th>\n",
       "      <th>GZMH</th>\n",
       "      <th>PRF1</th>\n",
       "      <th>TNFAIP3</th>\n",
       "      <th>CCR7</th>\n",
       "      <th>UBC</th>\n",
       "      <th>...</th>\n",
       "      <th>CCL5</th>\n",
       "      <th>C1orf56</th>\n",
       "      <th>MT-CYB</th>\n",
       "      <th>CD38</th>\n",
       "      <th>ANXA2</th>\n",
       "      <th>PIP4K2A</th>\n",
       "      <th>DNAJA1</th>\n",
       "      <th>UBB</th>\n",
       "      <th>HLA-DPA1</th>\n",
       "      <th>CTSW</th>\n",
       "    </tr>\n",
       "  </thead>\n",
       "  <tbody>\n",
       "    <tr>\n",
       "      <th>response</th>\n",
       "      <td>2.619744</td>\n",
       "      <td>1.889380</td>\n",
       "      <td>1.465633</td>\n",
       "      <td>1.428788</td>\n",
       "      <td>1.159849</td>\n",
       "      <td>0.969085</td>\n",
       "      <td>0.886255</td>\n",
       "      <td>0.832457</td>\n",
       "      <td>0.773944</td>\n",
       "      <td>0.668362</td>\n",
       "      <td>...</td>\n",
       "      <td>0.599512</td>\n",
       "      <td>0.591712</td>\n",
       "      <td>0.589688</td>\n",
       "      <td>0.557110</td>\n",
       "      <td>0.534405</td>\n",
       "      <td>0.499238</td>\n",
       "      <td>0.474888</td>\n",
       "      <td>0.457031</td>\n",
       "      <td>NaN</td>\n",
       "      <td>NaN</td>\n",
       "    </tr>\n",
       "    <tr>\n",
       "      <th>non-reponse</th>\n",
       "      <td>2.715630</td>\n",
       "      <td>1.046781</td>\n",
       "      <td>1.183233</td>\n",
       "      <td>1.070882</td>\n",
       "      <td>0.948252</td>\n",
       "      <td>0.842647</td>\n",
       "      <td>0.909226</td>\n",
       "      <td>0.586782</td>\n",
       "      <td>0.573866</td>\n",
       "      <td>0.403744</td>\n",
       "      <td>...</td>\n",
       "      <td>0.635819</td>\n",
       "      <td>0.520888</td>\n",
       "      <td>0.563578</td>\n",
       "      <td>1.188026</td>\n",
       "      <td>NaN</td>\n",
       "      <td>NaN</td>\n",
       "      <td>0.457631</td>\n",
       "      <td>0.498575</td>\n",
       "      <td>0.408269</td>\n",
       "      <td>0.404199</td>\n",
       "    </tr>\n",
       "  </tbody>\n",
       "</table>\n",
       "<p>2 rows × 22 columns</p>\n",
       "</div>"
      ],
      "text/plain": [
       "                GAPDH     RPS26     PRDM1     STAT1    IFITM2      GZMH  \\\n",
       "response     2.619744  1.889380  1.465633  1.428788  1.159849  0.969085   \n",
       "non-reponse  2.715630  1.046781  1.183233  1.070882  0.948252  0.842647   \n",
       "\n",
       "                 PRF1   TNFAIP3      CCR7       UBC  ...      CCL5   C1orf56  \\\n",
       "response     0.886255  0.832457  0.773944  0.668362  ...  0.599512  0.591712   \n",
       "non-reponse  0.909226  0.586782  0.573866  0.403744  ...  0.635819  0.520888   \n",
       "\n",
       "               MT-CYB      CD38     ANXA2   PIP4K2A    DNAJA1       UBB  \\\n",
       "response     0.589688  0.557110  0.534405  0.499238  0.474888  0.457031   \n",
       "non-reponse  0.563578  1.188026       NaN       NaN  0.457631  0.498575   \n",
       "\n",
       "             HLA-DPA1      CTSW  \n",
       "response          NaN       NaN  \n",
       "non-reponse  0.408269  0.404199  \n",
       "\n",
       "[2 rows x 22 columns]"
      ]
     },
     "execution_count": 27,
     "metadata": {},
     "output_type": "execute_result"
    }
   ],
   "source": [
    "data"
   ]
  }
 ],
 "metadata": {
  "kernelspec": {
   "display_name": "Python 3",
   "language": "python",
   "name": "python3"
  },
  "language_info": {
   "codemirror_mode": {
    "name": "ipython",
    "version": 3
   },
   "file_extension": ".py",
   "mimetype": "text/x-python",
   "name": "python",
   "nbconvert_exporter": "python",
   "pygments_lexer": "ipython3",
   "version": "3.8.5"
  }
 },
 "nbformat": 4,
 "nbformat_minor": 4
}
