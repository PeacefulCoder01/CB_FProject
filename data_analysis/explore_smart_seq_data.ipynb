{
 "cells": [
  {
   "cell_type": "markdown",
   "metadata": {},
   "source": [
    "# participating cells in clusters of T-cells (group statistics)"
   ]
  },
  {
   "cell_type": "code",
   "execution_count": 7,
   "metadata": {},
   "outputs": [],
   "source": [
    "def extract_data_from_pickle(pickle_path):\n",
    "    \"\"\"\n",
    "    Retrieves data from PC located in PICKLE_PATH.\n",
    "    :return: cells_form, gene_names, patients_information\n",
    "    \"\"\"\n",
    "    cells_form, gene_names, patients_information = pickle.load(open(pickle_path, \"rb\"))\n",
    "    return cells_form, gene_names, patients_information\n",
    "\n",
    "# from termcolor import colored\n",
    "# from data import *\n",
    "PICKLE_PATH = r'DATA\\1-16291cells.p'\n",
    "PICKLE_PATH = r'DATA\\1-16291cells_all_protein_withoutFilterByVariance_supervised_classification.p'"
   ]
  },
  {
   "cell_type": "markdown",
   "metadata": {},
   "source": [
    "Retrieve Dataset:"
   ]
  },
  {
   "cell_type": "code",
   "execution_count": 5,
   "metadata": {},
   "outputs": [],
   "source": [
    "cells, gene_names, patients_information = extract_data_from_pickle()\n",
    "dataset = RNAseq_Dataset(cells, patients_information, gene_names)"
   ]
  },
  {
   "cell_type": "markdown",
   "metadata": {},
   "source": [
    "All Supervides cell typs:"
   ]
  },
  {
   "cell_type": "code",
   "execution_count": 144,
   "metadata": {},
   "outputs": [],
   "source": [
    "cell_types = ['T cells', 'CD4 helper T cells', 'CD8 Cytotoxic T cells', 'Regulatory T cells', 'Regulatory CD4 T cells', 'Regulatory CD8 T cells', 'Regulatory CD4_CD8 T cells', 'NKT cells', 'NK cells', 'B cells', 'Activated T cells', 'Senescence T cells', 'Terminal effector', 'Exhausted T cells', 'Stem_like T cells', 'Memory T cells', 'Memory CD4 T cells', 'Memory CD8 T cells', 'Memory CD4_CD8 T cells', 'Macrophage_immature', 'Macrophage_mature', 'Monocyte_immature', 'Monocyte_mature', 'cDCs_dendritic_cells', 'pDCs', 'myeloid cells_general_immature', 'myeloid cells_general_mature', 'Neutrophils', 'Granolocytes', 'CD4+CD8+ T cells']"
   ]
  },
  {
   "cell_type": "code",
   "execution_count": 215,
   "metadata": {},
   "outputs": [],
   "source": [
    "# some helper functions\n",
    "def flatten_list(l):\n",
    "    return [item for sublist in l for item in sublist]\n",
    "def sort(_counter):\n",
    "    return sorted(_counter.items(), key=lambda pair: pair[0], reverse=False)\n",
    "\n",
    "def search_in_list(count_list, key):\n",
    "    d = {v[0]:v[1] for v in count_list}\n",
    "    return d.get(key, 0)\n",
    "\n",
    "def is_overlap(l1 , l2):\n",
    "    return len([f for f in l1 if f in l2])!=0"
   ]
  },
  {
   "cell_type": "markdown",
   "metadata": {},
   "source": [
    "Participating  cells in T-cells cluster (CD8_B and CD8_G) amount:"
   ]
  },
  {
   "cell_type": "code",
   "execution_count": 216,
   "metadata": {},
   "outputs": [
    {
     "name": "stdout",
     "output_type": "stream",
     "text": [
      "total number of cells:\n",
      "16291\n",
      "number of cells participated in T-cell cluster:\n",
      "6350\n"
     ]
    }
   ],
   "source": [
    "print(\"total number of cells:\")\n",
    "print(len(patients_information))\n",
    "print(\"number of cells participated in T-cell cluster:\")\n",
    "print(len([p['general 11 cluster'] for p in patients_information if p['T-cell 6 cluster']]))"
   ]
  },
  {
   "cell_type": "markdown",
   "metadata": {},
   "source": [
    "See distibutation of participated cells in cluster over supervised cell typs:"
   ]
  },
  {
   "cell_type": "code",
   "execution_count": 366,
   "metadata": {},
   "outputs": [
    {
     "name": "stdout",
     "output_type": "stream",
     "text": [
      "\u001b[31mFor each cell-type shows amount of participating cells in T-cells cluster (CD8_B and CD8_G):\u001b[0m\n",
      "\n",
      "supervised classification        total cells   |   participate in T-cell Cluster   |   don't participate in T-cell Cluster\n",
      "                       T cells          11523                            4996                            6527\n",
      "            CD4 helper T cells           2359                             753                            1606\n",
      "         CD8 Cytotoxic T cells           6869                            3503                            3366\n",
      "            Regulatory T cells            164                              51                             113\n",
      "        Regulatory CD4 T cells            725                             190                             535\n",
      "        Regulatory CD8 T cells             38                              10                              28\n",
      "    Regulatory CD4_CD8 T cells             28                              10                              18\n",
      "                     NKT cells            698                             213                             485\n",
      "                      NK cells            209                              59                             150\n",
      "                       B cells           1566                             435                            1131\n",
      "             Activated T cells           5861                            2342                            3519\n",
      "            Senescence T cells              6                               1                               5\n",
      "             Terminal effector              0                               0                               0\n",
      "             Exhausted T cells           9389                            4057                            5332\n",
      "             Stem_like T cells              0                               0                               0\n",
      "                Memory T cells            118                              34                              84\n",
      "            Memory CD4 T cells            109                              23                              86\n",
      "            Memory CD8 T cells            143                              81                              62\n",
      "        Memory CD4_CD8 T cells              9                               5                               4\n",
      "           Macrophage_immature             11                               0                              11\n",
      "             Macrophage_mature            273                              85                             188\n",
      "             Monocyte_immature              5                               0                               5\n",
      "               Monocyte_mature            387                              96                             291\n",
      "          cDCs_dendritic_cells            673                             200                             473\n",
      "                          pDCs            149                              52                              97\n",
      "myeloid cells_general_immature              7                               3                               4\n",
      "  myeloid cells_general_mature            267                              83                             184\n",
      "                   Neutrophils             17                               0                              17\n",
      "                  Granolocytes            134                              43                              91\n",
      "              CD4+CD8+ T cells            140                              49                              91\n"
     ]
    }
   ],
   "source": [
    "print(colored(\"For each cell-type shows amount of participating cells in T-cells cluster (CD8_B and CD8_G):\", 'red'), end='\\n\\n')\n",
    "\n",
    "\n",
    "total = sort(Counter(flatten_list([p['supervised classification'] for p in patients_information])))\n",
    "is_t = sort(Counter(flatten_list([p['supervised classification'] for p in patients_information if p['T-cell 6 cluster']])))\n",
    "is_n_t = sort(Counter(flatten_list([p['supervised classification'] for p in patients_information if not p['T-cell 6 cluster']])))\n",
    "\n",
    "print(\"supervised classification        total cells   |   participate in T-cell Cluster   |   don't participate in T-cell Cluster\")\n",
    "for ct in cell_types:\n",
    "    print('%30s   %12d%32d%32d' % (ct, search_in_list(total,ct), search_in_list(is_t,ct), search_in_list(is_n_t,ct)))\n"
   ]
  },
  {
   "cell_type": "markdown",
   "metadata": {},
   "source": [
    "See distibutation of participated cells in cluster over general 11-clusters:"
   ]
  },
  {
   "cell_type": "code",
   "execution_count": 364,
   "metadata": {},
   "outputs": [
    {
     "name": "stdout",
     "output_type": "stream",
     "text": [
      "\u001b[31mEach cluster in General_11_Clusters shows amount of participating cells in T-cells cluster (CD8_B and CD8_G):\u001b[0m\n",
      "\n",
      "number of cells:   total cells   |   participate in t-cell Cluster   |   don't participate in T-cell Cluster\n",
      "cluster  G1          1455                               1                            1454\n",
      "cluster  G2           305                              17                             288\n",
      "cluster  G3          1391                               1                            1390\n",
      "cluster  G4           290                               1                             289\n",
      "cluster  G5          2165                            1246                             919\n",
      "cluster  G6          2222                            1603                             619\n",
      "cluster  G7          1740                              34                            1706\n",
      "cluster  G8          2165                            1225                             940\n",
      "cluster  G9          1656                            1194                             462\n",
      "cluster G10          1773                             472                            1301\n",
      "cluster G11          1129                             556                             573\n"
     ]
    }
   ],
   "source": [
    "print(colored(\"Each cluster in General_11_Clusters shows amount of participating cells in T-cells cluster (CD8_B and CD8_G):\", 'red'), end='\\n\\n')\n",
    "\n",
    "is_t = sort(Counter([p['general 11 cluster'] for p in patients_information if p['T-cell 6 cluster']]))\n",
    "is_n_t = sort(Counter([p['general 11 cluster'] for p in patients_information if not p['T-cell 6 cluster']]))\n",
    "total = sort(Counter([p['general 11 cluster'] for p in patients_information]))\n",
    "print(\"number of cells:   total cells   |   participate in t-cell Cluster   |   don't participate in T-cell Cluster\")\n",
    "for i in range(1, 12):\n",
    "    print('cluster %3s  %12d%32d%32d' % ('G'+str(i), search_in_list(total,i), search_in_list(is_t,i), search_in_list(is_n_t,i)))"
   ]
  },
  {
   "cell_type": "markdown",
   "metadata": {},
   "source": [
    "General cluster distribution over cell-types"
   ]
  },
  {
   "cell_type": "code",
   "execution_count": 365,
   "metadata": {},
   "outputs": [
    {
     "name": "stdout",
     "output_type": "stream",
     "text": [
      "\u001b[31mEach cluster in General_11_Clusters shows amount of appearances of each supervised cell-type\u001b[0m\n",
      "\n",
      "Supervised Classification|Cluster: G1      G2      G3      G4      G5      G6      G7      G8      G9      G10      G11      \n",
      "                        T cells   903 |   164 |   796 |   174 |  1658 |  1699 |  1185 |  1570 |  1280 |  1339 |   755 | \n",
      "             CD4 helper T cells   161 |    35 |   168 |    47 |   306 |   339 |   308 |   309 |   167 |   353 |   166 | \n",
      "          CD8 Cytotoxic T cells   493 |    98 |   489 |    98 |   990 |  1066 |   637 |   984 |   858 |   699 |   457 | \n",
      "             Regulatory T cells     9 |     2 |    28 |     7 |    18 |    13 |    29 |    21 |    17 |    12 |     8 | \n",
      "         Regulatory CD4 T cells    35 |    15 |    95 |     7 |    56 |    63 |   193 |    93 |    45 |    74 |    49 | \n",
      "         Regulatory CD8 T cells     1 |     1 |     5 |     0 |     3 |     4 |     8 |     2 |     9 |     3 |     2 | \n",
      "     Regulatory CD4_CD8 T cells     0 |     0 |     6 |     0 |     6 |     2 |     5 |     2 |     5 |     2 |     0 | \n",
      "                      NKT cells    51 |    12 |    30 |    16 |    63 |   143 |    59 |   101 |    94 |    74 |    55 | \n",
      "                       NK cells    12 |     1 |    11 |     3 |    53 |    17 |    18 |    60 |    14 |    13 |     7 | \n",
      "                        B cells   368 |    50 |    99 |    31 |   181 |   147 |   118 |   166 |    91 |   169 |   146 | \n",
      "              Activated T cells   500 |    88 |   416 |    80 |   992 |   697 |   611 |   817 |   566 |   714 |   380 | \n",
      "             Senescence T cells     2 |     0 |     0 |     1 |     0 |     0 |     1 |     0 |     1 |     0 |     1 | \n",
      "              Terminal effector     0 |     0 |     0 |     0 |     0 |     0 |     0 |     0 |     0 |     0 |     0 | \n",
      "              Exhausted T cells   734 |   149 |   687 |   140 |  1152 |  1409 |  1098 |  1239 |  1117 |  1017 |   647 | \n",
      "              Stem_like T cells     0 |     0 |     0 |     0 |     0 |     0 |     0 |     0 |     0 |     0 |     0 | \n",
      "                 Memory T cells    10 |     3 |     9 |     0 |    17 |     9 |    11 |    12 |    16 |    25 |     6 | \n",
      "             Memory CD4 T cells     4 |     1 |    14 |     2 |    14 |    10 |    12 |    10 |     6 |    26 |    10 | \n",
      "             Memory CD8 T cells     5 |     0 |    11 |     1 |    33 |    11 |    15 |    20 |    19 |    19 |     9 | \n",
      "         Memory CD4_CD8 T cells     0 |     0 |     1 |     1 |     1 |     2 |     0 |     3 |     0 |     0 |     1 | \n",
      "            Macrophage_immature     1 |     0 |     5 |     1 |     3 |     0 |     0 |     0 |     1 |     0 |     0 | \n",
      "              Macrophage_mature    22 |     9 |    67 |     1 |    29 |    32 |    27 |    29 |    23 |    12 |    22 | \n",
      "              Monocyte_immature     1 |     0 |     3 |     0 |     0 |     1 |     0 |     0 |     0 |     0 |     0 | \n",
      "                Monocyte_mature    21 |    13 |   140 |     5 |    28 |    33 |    35 |    36 |    26 |    21 |    29 | \n",
      "           cDCs_dendritic_cells    38 |    41 |   183 |    29 |    59 |    59 |    48 |    57 |    61 |    39 |    59 | \n",
      "                           pDCs    14 |     5 |     9 |    20 |    19 |    18 |     2 |    26 |     7 |    10 |    19 | \n",
      " myeloid cells_general_immature     1 |     1 |     1 |     0 |     0 |     0 |     0 |     2 |     1 |     1 |     0 | \n",
      "   myeloid cells_general_mature     8 |    15 |    78 |     9 |    24 |    28 |    17 |    27 |    23 |    17 |    21 | \n",
      "                    Neutrophils     2 |     0 |    13 |     0 |     0 |     0 |     1 |     0 |     1 |     0 |     0 | \n",
      "                   Granolocytes     8 |     3 |    17 |     2 |    23 |    20 |    15 |    20 |     7 |     7 |    12 | \n",
      "               CD4+CD8+ T cells     9 |     2 |    10 |     0 |    15 |    19 |    10 |    17 |    29 |    21 |     8 | \n"
     ]
    }
   ],
   "source": [
    "print(colored(\"Each cluster in General_11_Clusters shows amount of appearances of each supervised cell-type\", 'red'), end='\\n\\n')\n",
    "\n",
    "print(\"Supervised Classification|Cluster:\", end=' ')\n",
    "\n",
    "g_clusters = [[] for i in range(11)]\n",
    "for i in range(11):\n",
    "    print(\"%2s \"%('G'+str(i+1)), end=\"     \")\n",
    "    g_clusters[i] = sort(Counter(flatten_list([p['supervised classification'] for p in patients_information if p['general 11 cluster']==i+1])))\n",
    "print()\n",
    "for ct in cell_types:\n",
    "    print(' %30s' % (ct), end=\" \")\n",
    "    for i in range(11):\n",
    "        print('%5d |' % (search_in_list(g_clusters[i], ct)), end=\" \")\n",
    "    print()"
   ]
  },
  {
   "cell_type": "code",
   "execution_count": null,
   "metadata": {},
   "outputs": [],
   "source": []
  }
 ],
 "metadata": {
  "kernelspec": {
   "display_name": "Python 3",
   "language": "python",
   "name": "python3"
  },
  "language_info": {
   "codemirror_mode": {
    "name": "ipython",
    "version": 3
   },
   "file_extension": ".py",
   "mimetype": "text/x-python",
   "name": "python",
   "nbconvert_exporter": "python",
   "pygments_lexer": "ipython3",
   "version": "3.7.3"
  }
 },
 "nbformat": 4,
 "nbformat_minor": 2
}
